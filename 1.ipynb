{
 "cells": [
  {
   "cell_type": "code",
   "execution_count": 98,
   "id": "6572ddd4",
   "metadata": {},
   "outputs": [],
   "source": [
    "import os\n",
    "import fitz  # PyMuPDF pour extraire le texte des PDF\n",
    "import re\n",
    "import nltk\n",
    "import numpy as np\n",
    "from nltk.corpus import stopwords\n",
    "from unidecode import unidecode\n",
    "from sklearn.feature_extraction.text import TfidfVectorizer\n",
    "from sklearn.metrics.pairwise import cosine_similarity"
   ]
  },
  {
   "cell_type": "code",
   "execution_count": 99,
   "id": "0661e010",
   "metadata": {},
   "outputs": [
    {
     "name": "stderr",
     "output_type": "stream",
     "text": [
      "[nltk_data] Downloading package stopwords to\n",
      "[nltk_data]     C:\\Users\\Asus\\AppData\\Roaming\\nltk_data...\n",
      "[nltk_data]   Package stopwords is already up-to-date!\n"
     ]
    }
   ],
   "source": [
    "# Télécharger les stopwords en français\n",
    "nltk.download('stopwords')\n",
    "stop_words = set(stopwords.words('french'))"
   ]
  },
  {
   "cell_type": "code",
   "execution_count": 100,
   "id": "797eb4b6",
   "metadata": {},
   "outputs": [],
   "source": [
    "# Fonction pour extraire le texte d'un PDF\n",
    "def extract_text_from_pdf(pdf_path):\n",
    "    try:\n",
    "        doc = fitz.open(pdf_path)\n",
    "        text = \" \".join([page.get_text(\"text\") for page in doc])\n",
    "        return text\n",
    "    except Exception as e:\n",
    "        print(f\"Erreur de lecture {pdf_path}: {e}\")\n",
    "        return \"\""
   ]
  },
  {
   "cell_type": "code",
   "execution_count": 101,
   "id": "a6f2df8b",
   "metadata": {},
   "outputs": [],
   "source": [
    "# Fonction de prétraitement du texte\n",
    "def preprocess_text(text):\n",
    "    text = unidecode(text)  # Supprime les accents (ex: \"développeur\" -> \"developpeur\")\n",
    "    text = re.sub(r'\\s+', ' ', text)  # Supprime les espaces multiples\n",
    "    text = re.sub(r'[^\\w\\s]', '', text)  # Supprime la ponctuation\n",
    "    text = ' '.join([word.lower() for word in text.split() if word.lower() not in stop_words])\n",
    "    return text\n"
   ]
  },
  {
   "cell_type": "code",
   "execution_count": 102,
   "id": "bbba8b80",
   "metadata": {},
   "outputs": [],
   "source": [
    "# Dossier contenant les CVs (modifier selon votre chemin)\n",
    "cv_folder = r\"C:\\Users\\Asus\\Desktop\\donner\\cv\""
   ]
  },
  {
   "cell_type": "code",
   "execution_count": 103,
   "id": "ceb5c405",
   "metadata": {},
   "outputs": [],
   "source": [
    "# Description du poste en français\n",
    "job_description = \"\"\"\n",
    "Nous recherchons un ingénieur en informatique spécialisé en Python, Intelligence Artificielle et Développement Web.\n",
    "Expérience avec Flask, Angular et bases de données est un plus.\n",
    "\"\"\"  # Modifier selon le besoin"
   ]
  },
  {
   "cell_type": "code",
   "execution_count": 104,
   "id": "c44d3b9f",
   "metadata": {},
   "outputs": [],
   "source": [
    "# Lire et traiter les CVs\n",
    "cv_files = [os.path.join(cv_folder, f) for f in os.listdir(cv_folder) if f.endswith('.pdf')]\n",
    "cv_texts = [preprocess_text(extract_text_from_pdf(f)) for f in cv_files]\n"
   ]
  },
  {
   "cell_type": "code",
   "execution_count": 105,
   "id": "a6464d7e",
   "metadata": {
    "scrolled": false
   },
   "outputs": [],
   "source": [
    "# Ajouter la description du poste comme référence\n",
    "documents = [preprocess_text(job_description)] + cv_texts\n",
    "\n",
    "# Transformer les textes en vecteurs TF-IDF\n",
    "vectorizer = TfidfVectorizer()\n",
    "tfidf_matrix = vectorizer.fit_transform(documents)"
   ]
  },
  {
   "cell_type": "code",
   "execution_count": 106,
   "id": "c3a00f11",
   "metadata": {},
   "outputs": [],
   "source": [
    "# Calculer la similarité cosinus entre la description du poste et les CVs\n",
    "cosine_similarities = cosine_similarity(tfidf_matrix[0:1], tfidf_matrix[1:]).flatten()\n",
    "\n",
    "# Classer les CVs en fonction de leur pertinence\n",
    "ranked_indices = np.argsort(cosine_similarities)[::-1]  # Tri décroissant\n"
   ]
  },
  {
   "cell_type": "code",
   "execution_count": 107,
   "id": "1c6e9fac",
   "metadata": {},
   "outputs": [
    {
     "name": "stdout",
     "output_type": "stream",
     "text": [
      "\n",
      "🔹 Classement des CVs selon la pertinence:\n",
      "Rang 1: C:\\Users\\Asus\\Desktop\\donner\\cv\\my cv.pdf - Score: 0.1053\n",
      "Rang 2: C:\\Users\\Asus\\Desktop\\donner\\cv\\cv7.pdf - Score: 0.0799\n",
      "Rang 3: C:\\Users\\Asus\\Desktop\\donner\\cv\\CV Ghaya.pdf.pdf - Score: 0.0729\n",
      "Rang 4: C:\\Users\\Asus\\Desktop\\donner\\cv\\cv aziz.pdf - Score: 0.0696\n",
      "Rang 5: C:\\Users\\Asus\\Desktop\\donner\\cv\\cv emma2.pdf - Score: 0.0624\n",
      "Rang 6: C:\\Users\\Asus\\Desktop\\donner\\cv\\yassine+CV (1).pdf - Score: 0.0472\n",
      "Rang 7: C:\\Users\\Asus\\Desktop\\donner\\cv\\cv emma1.pdf - Score: 0.0000\n"
     ]
    }
   ],
   "source": [
    "# Affichage des résultats\n",
    "print(\"\\n🔹 Classement des CVs selon la pertinence:\")\n",
    "for i, idx in enumerate(ranked_indices):\n",
    "    print(f\"Rang {i+1}: {cv_files[idx]} - Score: {cosine_similarities[idx]:.4f}\")"
   ]
  },
  {
   "cell_type": "code",
   "execution_count": null,
   "id": "3c3fd204",
   "metadata": {},
   "outputs": [],
   "source": []
  },
  {
   "cell_type": "code",
   "execution_count": null,
   "id": "bfb521e6",
   "metadata": {},
   "outputs": [],
   "source": []
  },
  {
   "cell_type": "code",
   "execution_count": null,
   "id": "c9513626",
   "metadata": {},
   "outputs": [],
   "source": []
  }
 ],
 "metadata": {
  "kernelspec": {
   "display_name": "Python 3 (ipykernel)",
   "language": "python",
   "name": "python3"
  },
  "language_info": {
   "codemirror_mode": {
    "name": "ipython",
    "version": 3
   },
   "file_extension": ".py",
   "mimetype": "text/x-python",
   "name": "python",
   "nbconvert_exporter": "python",
   "pygments_lexer": "ipython3",
   "version": "3.11.5"
  },
  "vscode": {
   "interpreter": {
    "hash": "107d7b120a5b68773a87d4067e673630b35702e55ebab3138143d08b1c4d7cbc"
   }
  }
 },
 "nbformat": 4,
 "nbformat_minor": 5
}
